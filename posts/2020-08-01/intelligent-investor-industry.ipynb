{
 "metadata": {
  "language_info": {
   "codemirror_mode": {
    "name": "ipython",
    "version": 3
   },
   "file_extension": ".py",
   "mimetype": "text/x-python",
   "name": "python",
   "nbconvert_exporter": "python",
   "pygments_lexer": "ipython3",
   "version": "3.7.2-final"
  },
  "orig_nbformat": 2,
  "kernelspec": {
   "name": "python3",
   "display_name": "Python 3"
  }
 },
 "nbformat": 4,
 "nbformat_minor": 2,
 "cells": [
  {
   "cell_type": "code",
   "execution_count": 1,
   "metadata": {},
   "outputs": [],
   "source": [
    "import pandas as pd\n",
    "import numpy as np\n",
    "import matplotlib.pyplot as plt\n",
    "%matplotlib inline"
   ]
  },
  {
   "cell_type": "code",
   "execution_count": 2,
   "metadata": {},
   "outputs": [],
   "source": [
    "ALL_PRICES = pd.read_csv(\"2020-07-26-sp500-prices.csv\")\n",
    "ALL_PRICES.index = pd.to_datetime(ALL_PRICES.iloc[:,0])     # set index to symbol\n",
    "ALL_PRICES.drop(columns=[\"Unnamed: 0\"])                     # remove initial index column\n",
    "ALL_PRICES = ALL_PRICES.select_dtypes(include=[\"float64\"])  # filter NA\n",
    "\n",
    "PROFILES = pd.read_csv(\"2020-07-26-profiles.csv\")\n",
    "SP500_PROFILES = PROFILES[PROFILES.symbol.isin(set(ALL_PRICES.columns))]"
   ]
  },
  {
   "cell_type": "code",
   "execution_count": 3,
   "metadata": {},
   "outputs": [],
   "source": [
    "def get_diffs(start, end):\n",
    "    df = ALL_PRICES[(ALL_PRICES.index >= start) & (ALL_PRICES.index < end)] # filter\n",
    "    diffs = np.log(df)                                                      # log prices\n",
    "    diffs = -diffs.diff()                                                   # log diffs\n",
    "    return diffs"
   ]
  },
  {
   "cell_type": "code",
   "execution_count": 4,
   "metadata": {},
   "outputs": [
    {
     "output_type": "execute_result",
     "data": {
      "text/plain": "sector\nBasic Materials           22\nCommunication Services    25\nConsumer Cyclical         65\nConsumer Defensive        35\nEnergy                    25\nFinancial Services        69\nHealthcare                62\nIndustrials               73\nReal Estate               31\nTechnology                67\nUtilities                 28\nName: symbol, dtype: int64"
     },
     "metadata": {},
     "execution_count": 4
    }
   ],
   "source": [
    "SP500_PROFILES.groupby(by=\"sector\").count().symbol"
   ]
  },
  {
   "cell_type": "code",
   "execution_count": 5,
   "metadata": {},
   "outputs": [],
   "source": [
    "def get_prices_by_sector(start, end):\n",
    "    diffs = get_diffs(start, end)\n",
    "    prices_by_sector = {}\n",
    "    for sector in SP500_PROFILES.sector.unique():\n",
    "        symbols = SP500_PROFILES.symbol[SP500_PROFILES.sector == sector]\n",
    "        prices_by_sector[sector] = diffs[symbols]\n",
    "    return prices_by_sector\n",
    "\n",
    "def get_medians_by_sector(start, end):\n",
    "    diffs = get_diffs(start, end)\n",
    "    for sector in SP500_PROFILES.sector.unique():\n",
    "        symbols = SP500_PROFILES.symbol[SP500_PROFILES.sector == sector]\n",
    "        median = diffs[symbols].median(axis=1)\n",
    "        medians_by_sector[sector] = median\n",
    "    return medians_by_sector"
   ]
  },
  {
   "cell_type": "code",
   "execution_count": 6,
   "metadata": {
    "tags": []
   },
   "outputs": [],
   "source": [
    "def get_performance_by_sector(year):\n",
    "    start = f\"{year}-01-01\"\n",
    "    end = f\"{year}-12-31\"\n",
    "    prices_by_sector = get_prices_by_sector(start, end)\n",
    "    performance = {}\n",
    "    for sector, returns in prices_by_sector.items():\n",
    "        performance[sector] = [returns.sum().median()]\n",
    "    df = pd.DataFrame.from_dict(performance).transpose()\n",
    "    df.columns = [year]\n",
    "    return df"
   ]
  },
  {
   "cell_type": "code",
   "execution_count": 46,
   "metadata": {},
   "outputs": [],
   "source": [
    "def get_performance_range_by_sector(year):\n",
    "    start = f\"{year}-01-01\"\n",
    "    end = f\"{year}-12-31\"\n",
    "    prices_by_sector = get_prices_by_sector(start, end)\n",
    "    performance = {}\n",
    "    for sector, returns in prices_by_sector.items():\n",
    "        perc_20 = np.percentile(returns.sum(), 20).round(4)\n",
    "        perc_50 = np.percentile(returns.sum(), 50).round(4)\n",
    "        perc_80 = np.percentile(returns.sum(), 80).round(4)\n",
    "        performance[sector] = [perc_20, perc_50, perc_80]\n",
    "    df = pd.DataFrame.from_dict(performance).transpose()\n",
    "    df.columns = [f\"{year} lo\",f\"{year} med\", f\"{year} hi\"]\n",
    "    return df"
   ]
  },
  {
   "cell_type": "code",
   "execution_count": 28,
   "metadata": {},
   "outputs": [],
   "source": [
    "performance = None\n",
    "for year in range(2010, 2020):\n",
    "    year_performance = get_performance_by_sector(year)\n",
    "    performance = year_performance if performance is None else performance.join(year_performance)"
   ]
  },
  {
   "cell_type": "code",
   "execution_count": 47,
   "metadata": {},
   "outputs": [],
   "source": [
    "performance_range = None\n",
    "for year in range(2010, 2020):\n",
    "    year_performance_range = get_performance_range_by_sector(year)\n",
    "    performance_range = year_performance_range if performance_range is None else performance_range.join(year_performance_range)"
   ]
  },
  {
   "cell_type": "code",
   "execution_count": 44,
   "metadata": {},
   "outputs": [
    {
     "output_type": "execute_result",
     "data": {
      "text/plain": "                        2010 lo  2010 hi  2011 lo  2011 hi  2012 lo  2012 hi  \\\nIndustrials              0.0119   0.3766  -0.1874   0.1294   0.0060   0.2571   \nConsumer Cyclical        0.0085   0.4670  -0.1617   0.2635   0.0000   0.3942   \nTechnology              -0.0249   0.3988  -0.2645   0.0902  -0.0257   0.2386   \nHealthcare              -0.0369   0.2671  -0.0970   0.1972   0.0205   0.2601   \nConsumer Defensive       0.0000   0.2693  -0.0012   0.2385   0.0000   0.1336   \nUtilities               -0.0958   0.1359   0.0509   0.1996  -0.0613   0.0901   \nFinancial Services      -0.0075   0.2560  -0.3628   0.0645   0.0285   0.2311   \nReal Estate              0.0925   0.3306  -0.1056   0.1815   0.0220   0.2127   \nBasic Materials          0.0293   0.3404  -0.1812   0.0508  -0.0323   0.2673   \nCommunication Services   0.0000   0.2920  -0.0494   0.0922  -0.0046   0.2202   \nEnergy                   0.0000   0.3309  -0.1294   0.1511  -0.1464   0.1841   \n\n                        2013 lo  2013 hi  2014 lo  2014 hi  2015 lo  2015 hi  \\\nIndustrials              0.1520   0.4256   0.0000   0.2594  -0.2477   0.1576   \nConsumer Cyclical        0.1052   0.4490   0.0000   0.2959  -0.2048   0.2112   \nTechnology               0.0260   0.3976   0.0230   0.3186  -0.1742   0.2084   \nHealthcare               0.1303   0.4887   0.1383   0.3319  -0.0396   0.1744   \nConsumer Defensive       0.0857   0.3443   0.0593   0.2110   0.0086   0.2140   \nUtilities                0.0083   0.1926   0.2154   0.2947  -0.1832   0.0114   \nFinancial Services       0.2224   0.4543   0.0297   0.1784  -0.0991   0.0971   \nReal Estate             -0.1022   0.0753   0.2334   0.3419  -0.0657   0.1454   \nBasic Materials          0.0065   0.2640  -0.0598   0.1506  -0.2864   0.1139   \nCommunication Services   0.1212   0.4952  -0.1364   0.2368  -0.1726   0.3779   \nEnergy                   0.1205   0.3567  -0.1710   0.0184  -0.6259  -0.0714   \n\n                        2016 lo  2016 hi  2017 lo  2017 hi  2018 lo  2018 hi  \\\nIndustrials              0.0947   0.3036   0.0248   0.3305  -0.2663   0.0110   \nConsumer Cyclical       -0.1289   0.2056  -0.0085   0.3515  -0.4059   0.1186   \nTechnology               0.0412   0.2862   0.1465   0.3896  -0.1717   0.1687   \nHealthcare              -0.1916   0.1756   0.0570   0.3693  -0.1869   0.1644   \nConsumer Defensive      -0.0265   0.1583  -0.0828   0.2326  -0.3925   0.0396   \nUtilities                0.0766   0.1992   0.0158   0.1536  -0.0011   0.0938   \nFinancial Services       0.1131   0.2949   0.0690   0.2889  -0.3021   0.0235   \nReal Estate             -0.0239   0.1883  -0.0614   0.1663  -0.1734   0.0338   \nBasic Materials          0.0000   0.4066   0.0059   0.2959  -0.3060  -0.0036   \nCommunication Services  -0.0082   0.2141  -0.1540   0.3849  -0.3113   0.0345   \nEnergy                   0.0743   0.3706  -0.1561   0.1627  -0.4226  -0.1679   \n\n                        2019 lo  2019 hi  \nIndustrials              0.1088   0.3975  \nConsumer Cyclical        0.0949   0.3465  \nTechnology               0.1499   0.5229  \nHealthcare               0.1109   0.3601  \nConsumer Defensive       0.0806   0.3683  \nUtilities                0.1117   0.3201  \nFinancial Services       0.1494   0.3463  \nReal Estate              0.1037   0.3539  \nBasic Materials         -0.0476   0.3624  \nCommunication Services   0.1025   0.2802  \nEnergy                  -0.0930   0.2101  ",
      "text/html": "<div>\n<style scoped>\n    .dataframe tbody tr th:only-of-type {\n        vertical-align: middle;\n    }\n\n    .dataframe tbody tr th {\n        vertical-align: top;\n    }\n\n    .dataframe thead th {\n        text-align: right;\n    }\n</style>\n<table border=\"1\" class=\"dataframe\">\n  <thead>\n    <tr style=\"text-align: right;\">\n      <th></th>\n      <th>2010 lo</th>\n      <th>2010 hi</th>\n      <th>2011 lo</th>\n      <th>2011 hi</th>\n      <th>2012 lo</th>\n      <th>2012 hi</th>\n      <th>2013 lo</th>\n      <th>2013 hi</th>\n      <th>2014 lo</th>\n      <th>2014 hi</th>\n      <th>2015 lo</th>\n      <th>2015 hi</th>\n      <th>2016 lo</th>\n      <th>2016 hi</th>\n      <th>2017 lo</th>\n      <th>2017 hi</th>\n      <th>2018 lo</th>\n      <th>2018 hi</th>\n      <th>2019 lo</th>\n      <th>2019 hi</th>\n    </tr>\n  </thead>\n  <tbody>\n    <tr>\n      <th>Industrials</th>\n      <td>0.0119</td>\n      <td>0.3766</td>\n      <td>-0.1874</td>\n      <td>0.1294</td>\n      <td>0.0060</td>\n      <td>0.2571</td>\n      <td>0.1520</td>\n      <td>0.4256</td>\n      <td>0.0000</td>\n      <td>0.2594</td>\n      <td>-0.2477</td>\n      <td>0.1576</td>\n      <td>0.0947</td>\n      <td>0.3036</td>\n      <td>0.0248</td>\n      <td>0.3305</td>\n      <td>-0.2663</td>\n      <td>0.0110</td>\n      <td>0.1088</td>\n      <td>0.3975</td>\n    </tr>\n    <tr>\n      <th>Consumer Cyclical</th>\n      <td>0.0085</td>\n      <td>0.4670</td>\n      <td>-0.1617</td>\n      <td>0.2635</td>\n      <td>0.0000</td>\n      <td>0.3942</td>\n      <td>0.1052</td>\n      <td>0.4490</td>\n      <td>0.0000</td>\n      <td>0.2959</td>\n      <td>-0.2048</td>\n      <td>0.2112</td>\n      <td>-0.1289</td>\n      <td>0.2056</td>\n      <td>-0.0085</td>\n      <td>0.3515</td>\n      <td>-0.4059</td>\n      <td>0.1186</td>\n      <td>0.0949</td>\n      <td>0.3465</td>\n    </tr>\n    <tr>\n      <th>Technology</th>\n      <td>-0.0249</td>\n      <td>0.3988</td>\n      <td>-0.2645</td>\n      <td>0.0902</td>\n      <td>-0.0257</td>\n      <td>0.2386</td>\n      <td>0.0260</td>\n      <td>0.3976</td>\n      <td>0.0230</td>\n      <td>0.3186</td>\n      <td>-0.1742</td>\n      <td>0.2084</td>\n      <td>0.0412</td>\n      <td>0.2862</td>\n      <td>0.1465</td>\n      <td>0.3896</td>\n      <td>-0.1717</td>\n      <td>0.1687</td>\n      <td>0.1499</td>\n      <td>0.5229</td>\n    </tr>\n    <tr>\n      <th>Healthcare</th>\n      <td>-0.0369</td>\n      <td>0.2671</td>\n      <td>-0.0970</td>\n      <td>0.1972</td>\n      <td>0.0205</td>\n      <td>0.2601</td>\n      <td>0.1303</td>\n      <td>0.4887</td>\n      <td>0.1383</td>\n      <td>0.3319</td>\n      <td>-0.0396</td>\n      <td>0.1744</td>\n      <td>-0.1916</td>\n      <td>0.1756</td>\n      <td>0.0570</td>\n      <td>0.3693</td>\n      <td>-0.1869</td>\n      <td>0.1644</td>\n      <td>0.1109</td>\n      <td>0.3601</td>\n    </tr>\n    <tr>\n      <th>Consumer Defensive</th>\n      <td>0.0000</td>\n      <td>0.2693</td>\n      <td>-0.0012</td>\n      <td>0.2385</td>\n      <td>0.0000</td>\n      <td>0.1336</td>\n      <td>0.0857</td>\n      <td>0.3443</td>\n      <td>0.0593</td>\n      <td>0.2110</td>\n      <td>0.0086</td>\n      <td>0.2140</td>\n      <td>-0.0265</td>\n      <td>0.1583</td>\n      <td>-0.0828</td>\n      <td>0.2326</td>\n      <td>-0.3925</td>\n      <td>0.0396</td>\n      <td>0.0806</td>\n      <td>0.3683</td>\n    </tr>\n    <tr>\n      <th>Utilities</th>\n      <td>-0.0958</td>\n      <td>0.1359</td>\n      <td>0.0509</td>\n      <td>0.1996</td>\n      <td>-0.0613</td>\n      <td>0.0901</td>\n      <td>0.0083</td>\n      <td>0.1926</td>\n      <td>0.2154</td>\n      <td>0.2947</td>\n      <td>-0.1832</td>\n      <td>0.0114</td>\n      <td>0.0766</td>\n      <td>0.1992</td>\n      <td>0.0158</td>\n      <td>0.1536</td>\n      <td>-0.0011</td>\n      <td>0.0938</td>\n      <td>0.1117</td>\n      <td>0.3201</td>\n    </tr>\n    <tr>\n      <th>Financial Services</th>\n      <td>-0.0075</td>\n      <td>0.2560</td>\n      <td>-0.3628</td>\n      <td>0.0645</td>\n      <td>0.0285</td>\n      <td>0.2311</td>\n      <td>0.2224</td>\n      <td>0.4543</td>\n      <td>0.0297</td>\n      <td>0.1784</td>\n      <td>-0.0991</td>\n      <td>0.0971</td>\n      <td>0.1131</td>\n      <td>0.2949</td>\n      <td>0.0690</td>\n      <td>0.2889</td>\n      <td>-0.3021</td>\n      <td>0.0235</td>\n      <td>0.1494</td>\n      <td>0.3463</td>\n    </tr>\n    <tr>\n      <th>Real Estate</th>\n      <td>0.0925</td>\n      <td>0.3306</td>\n      <td>-0.1056</td>\n      <td>0.1815</td>\n      <td>0.0220</td>\n      <td>0.2127</td>\n      <td>-0.1022</td>\n      <td>0.0753</td>\n      <td>0.2334</td>\n      <td>0.3419</td>\n      <td>-0.0657</td>\n      <td>0.1454</td>\n      <td>-0.0239</td>\n      <td>0.1883</td>\n      <td>-0.0614</td>\n      <td>0.1663</td>\n      <td>-0.1734</td>\n      <td>0.0338</td>\n      <td>0.1037</td>\n      <td>0.3539</td>\n    </tr>\n    <tr>\n      <th>Basic Materials</th>\n      <td>0.0293</td>\n      <td>0.3404</td>\n      <td>-0.1812</td>\n      <td>0.0508</td>\n      <td>-0.0323</td>\n      <td>0.2673</td>\n      <td>0.0065</td>\n      <td>0.2640</td>\n      <td>-0.0598</td>\n      <td>0.1506</td>\n      <td>-0.2864</td>\n      <td>0.1139</td>\n      <td>0.0000</td>\n      <td>0.4066</td>\n      <td>0.0059</td>\n      <td>0.2959</td>\n      <td>-0.3060</td>\n      <td>-0.0036</td>\n      <td>-0.0476</td>\n      <td>0.3624</td>\n    </tr>\n    <tr>\n      <th>Communication Services</th>\n      <td>0.0000</td>\n      <td>0.2920</td>\n      <td>-0.0494</td>\n      <td>0.0922</td>\n      <td>-0.0046</td>\n      <td>0.2202</td>\n      <td>0.1212</td>\n      <td>0.4952</td>\n      <td>-0.1364</td>\n      <td>0.2368</td>\n      <td>-0.1726</td>\n      <td>0.3779</td>\n      <td>-0.0082</td>\n      <td>0.2141</td>\n      <td>-0.1540</td>\n      <td>0.3849</td>\n      <td>-0.3113</td>\n      <td>0.0345</td>\n      <td>0.1025</td>\n      <td>0.2802</td>\n    </tr>\n    <tr>\n      <th>Energy</th>\n      <td>0.0000</td>\n      <td>0.3309</td>\n      <td>-0.1294</td>\n      <td>0.1511</td>\n      <td>-0.1464</td>\n      <td>0.1841</td>\n      <td>0.1205</td>\n      <td>0.3567</td>\n      <td>-0.1710</td>\n      <td>0.0184</td>\n      <td>-0.6259</td>\n      <td>-0.0714</td>\n      <td>0.0743</td>\n      <td>0.3706</td>\n      <td>-0.1561</td>\n      <td>0.1627</td>\n      <td>-0.4226</td>\n      <td>-0.1679</td>\n      <td>-0.0930</td>\n      <td>0.2101</td>\n    </tr>\n  </tbody>\n</table>\n</div>"
     },
     "metadata": {},
     "execution_count": 44
    }
   ],
   "source": [
    "performance_range.to_csv(\"\")"
   ]
  },
  {
   "cell_type": "code",
   "execution_count": 48,
   "metadata": {
    "tags": []
   },
   "outputs": [],
   "source": [
    "performance_range.to_csv(\"performance_range.csv\")"
   ]
  },
  {
   "cell_type": "code",
   "execution_count": null,
   "metadata": {},
   "outputs": [],
   "source": []
  }
 ]
}